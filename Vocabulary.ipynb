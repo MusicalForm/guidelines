{
 "cells": [
  {
   "metadata": {},
   "cell_type": "raw",
   "source": [
    "---\n",
    "title: Vocabulary\n",
    "---"
   ]
  },
  {
   "cell_type": "markdown",
   "metadata": {},
   "source": [
    "# Form labels and abbreviations\n",
    "\n",
    "The table below is a subset of https://cloud.bruckneruni.at/index.php/s/awFF9yZE3reSxoG?dir=/&openfile=true which is still work in progress.\n",
    "These include the most relevant labels and abbreviations for piloting the guidelines.\n",
    "\n",
    "The vocabulary of formal concepts referring to formal functions is grouped according to their position in the formal hierarchy: Movement, Section, Phrase, Subphrase levels.\n",
    "Each term corresponds either to a formal type or a formal function. Most labels come with an abbreviation which is the preferred way to use it.\n",
    "\n",
    "In order to learn about how labels are combined, please refer to [Syntax](wiki/Syntax.md)."
   ]
  },
  {
   "cell_type": "code",
   "metadata": {
    "ExecuteTime": {
     "end_time": "2025-05-30T13:11:57.507500Z",
     "start_time": "2025-05-30T13:11:57.089939Z"
    }
   },
   "source": [
    "#| label: vocabulary\n",
    "#| tbl-cap: Form label vocabulary\n",
    "#| echo: false\n",
    "#| tbl-colwidths: [0, 0, 20, 0, 0] # make the 3rd col large enough to no wrap\n",
    "\n",
    "from IPython.display import Markdown\n",
    "import pandas as pd\n",
    "\n",
    "\n",
    "df = pd.read_csv(\"data/Form vocabulary.csv\")\n",
    "df = df.query(\"`Hierarchical level`.notna()\")\n",
    "df[\"Label\"] = (\"[\" + df[\"Formal category\"] + \"](\" + df[\"Open Music Theory Link\"] + \")\").where(df[\"Open Music Theory Link\"].notna(), df[\"Formal category\"])\n",
    "columns = [\"Hierarchical level\", \"Function/type\", \"Label\", \"Short label\", \"Short explanation\"]\n",
    "selection = df[columns].sort_values(columns).fillna(\"\")\n",
    "Markdown(selection.to_markdown(index=False))"
   ],
   "outputs": [
    {
     "data": {
      "text/plain": [
       "<IPython.core.display.Markdown object>"
      ],
      "text/markdown": "| Hierarchical level   | Function/type   | Label                                                                           | Short label   | Short explanation                                                                                                                                                                                                                       |\n|:---------------------|:----------------|:--------------------------------------------------------------------------------|:--------------|:----------------------------------------------------------------------------------------------------------------------------------------------------------------------------------------------------------------------------------------|\n| Movement level       | type            | [minuet form](https://openmusictheory.github.io/minuet.html)                    |               | ABA’ structure, split into three parts ternary or binary                                                                                                                                                                                |\n| Movement level       | type            | [rondo form](https://openmusictheory.github.io/rondo.html)                      |               | alternation of refrain and contrasting couplets/episodes                                                                                                                                                                                |\n| Movement level       | type            | [sonata form](https://openmusictheory.github.io/SonataTheory-intro.html)        |               | Binary or ternary form                                                                                                                                                                                                                  |\n| Movement level       | type            | concerto form                                                                   |               | six part structure: 1) opening ritornello for orchestra, 2) a solo section, 3) subordinate-key ritornello for orchestra, 4) solo section functioning as recapitulation, 6) closing ritornello for orchestra interrupted by solo cadenza |\n| Phrase level         | Type            | [period](https://elliotthauser.com/openmusictheory/period.html)                 | pd            | Two-part structure, consisting of an antecendent (HC or IAC) and a consequent (concluded by PAC)                                                                                                                                        |\n| Phrase level         | Type            | [sentence](https://elliotthauser.com/openmusictheory/sentence.html)             | sent          | Two-part structure, consisting of a presentation (no cadence) and a continuation (concluded by a half or full cadence). The presentation in turn is made up  of two (less frequently one or three) basic ideas.                         |\n| Section level        | Function        | [development section](https://openmusictheory.github.io/sonataDevelopment.html) | dev           | 4 modules: 1) link from exposision, 2) entry zone, 3) central-action zone, 4) retransition                                                                                                                                              |\n| Section level        | Function        | [exposition](https://openmusictheory.github.io/SonataTheory-exposition.html)    | exp           | Two-part or continous form/type                                                                                                                                                                                                         |\n| Section level        | Function        | [recapitulation](https://openmusictheory.github.io/sonataRecap.html)            |               | essential sonata closure and re-composition                                                                                                                                                                                             |\n| Subphrase level      | Function        | [basic idea](none)                                                              | bi            | smallest formal unit of a theme (typically 2 bars in length)                                                                                                                                                                            |\n| Subphrase level      | Function        | continuation                                                                    |               |                                                                                                                                                                                                                                         |\n| Subphrase level      | Function        | contrasting idea                                                                | ci            |                                                                                                                                                                                                                                         |\n| Subphrase level      | Function        | presentation                                                                    |               |                                                                                                                                                                                                                                         |"
     },
     "execution_count": 1,
     "metadata": {},
     "output_type": "execute_result"
    }
   ],
   "execution_count": 1
  }
 ],
 "metadata": {
  "kernelspec": {
   "display_name": "Python 3",
   "language": "python",
   "name": "python3"
  }
 },
 "nbformat": 4,
 "nbformat_minor": 4
}
