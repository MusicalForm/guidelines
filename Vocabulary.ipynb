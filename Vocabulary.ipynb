{
 "cells": [
  {
   "metadata": {},
   "cell_type": "raw",
   "source": [
    "---\n",
    "title: Vocabulary\n",
    "---"
   ]
  },
  {
   "cell_type": "markdown",
   "metadata": {},
   "source": "The vocabulary of formal concepts referrering to formal functions is being ordered according to their position in the formal hierarchy: from piece level down to the subthematic level. In addition, concepts referring to formal types is being introduced here."
  },
  {
   "cell_type": "code",
   "metadata": {
    "ExecuteTime": {
     "end_time": "2025-05-30T10:24:53.977024Z",
     "start_time": "2025-05-30T10:24:53.938601Z"
    }
   },
   "source": [
    "#| label: vocabulary\n",
    "#| tbl-cap: Form label vocabulary\n",
    "#| echo: false\n",
    "#| tbl-colwidths: [0, 0, 20, 0, 0] # make the 3rd col large enough to no wrap\n",
    "\n",
    "from IPython.display import Markdown\n",
    "import pandas as pd\n",
    "\n",
    "\n",
    "df = pd.read_csv(\"data/Form vocabulary.csv\")\n",
    "df = df.query(\"`Hierarchical level`.notna()\")\n",
    "df[\"Label\"] = \"[\" + df[\"Formal category\"] + \"](\" + df[\"Open Music Theory Link\"] + \")\"\n",
    "columns = [\"Hierarchical level\", \"Function/type\", \"Label\", \"Annotation label\", \"Short explanation\"]\n",
    "selection = df[columns].sort_values(columns).fillna(\"\")\n",
    "Markdown(selection.to_markdown(index=False))"
   ],
   "outputs": [
    {
     "data": {
      "text/plain": [
       "<IPython.core.display.Markdown object>"
      ],
      "text/markdown": "| Hierarchical level            | Function/type   | Label                                                                           | Annotation label   | Short explanation                                                                                                                                                                                                                       |\n|:------------------------------|:----------------|:--------------------------------------------------------------------------------|:-------------------|:----------------------------------------------------------------------------------------------------------------------------------------------------------------------------------------------------------------------------------------|\n| Movement level                | type            | [minuet form](https://openmusictheory.github.io/minuet.html)                    |                    | ABA’ structure, split into three parts ternary or binary                                                                                                                                                                                |\n| Movement level                | type            | [rondo form](https://openmusictheory.github.io/rondo.html)                      |                    | alternation of refrain and contrasting couplets/episodes                                                                                                                                                                                |\n| Movement level                | type            | [sonata form](https://openmusictheory.github.io/SonataTheory-intro.html)        |                    | Binary or ternary form                                                                                                                                                                                                                  |\n| Movement level                | type            |                                                                                 |                    | six part structure: 1) opening ritornello for orchestra, 2) a solo section, 3) subordinate-key ritornello for orchestra, 4) solo section functioning as recapitulation, 6) closing ritornello for orchestra interrupted by solo cadenza |\n| Phrase level                  | Type            | [period](https://elliotthauser.com/openmusictheory/period.html)                 | pd                 | Two-part structure, consisting of an antecendent (HC or IAC) and a consequent (concluded by PAC)                                                                                                                                        |\n| Phrase level                  | Type            | [sentence](https://elliotthauser.com/openmusictheory/sentence.html)             | sent               | Two-part structure, consisting of a presentation (no cadence) and a continuation (concluded by a half or full cadence). The presentation in turn is made up  of two (less frequently one or three) basic ideas.                         |\n| Section level                 | Function        | [development section](https://openmusictheory.github.io/sonataDevelopment.html) | dev                | 4 modules: 1) link from exposision, 2) entry zone, 3) central-action zone, 4) retransition                                                                                                                                              |\n| Section level                 | Function        | [exposition](https://openmusictheory.github.io/SonataTheory-exposition.html)    | exp                | Two-part or continous form/type                                                                                                                                                                                                         |\n| Section level                 | Function        | [recapitulation](https://openmusictheory.github.io/sonataRecap.html)            |                    | essential sonata closure and re-composition                                                                                                                                                                                             |\n| Subphrase level               | Function        | [basic idea](none)                                                              | bi                 | smallest formal unit of a theme (typically 2 bars in length)                                                                                                                                                                            |\n| Subphrase level               | Function        |                                                                                 | ci                 |                                                                                                                                                                                                                                         |\n| Subphrase level               | Function        |                                                                                 |                    |                                                                                                                                                                                                                                         |\n| Subphrase level               | Function        |                                                                                 |                    |                                                                                                                                                                                                                                         |\n| Theme level                   |                 |                                                                                 |                    |                                                                                                                                                                                                                                         |\n| Zone level / subsection level |                 |                                                                                 |                    |                                                                                                                                                                                                                                         |"
     },
     "execution_count": 11,
     "metadata": {},
     "output_type": "execute_result"
    }
   ],
   "execution_count": 11
  }
 ],
 "metadata": {
  "kernelspec": {
   "display_name": "Python 3",
   "language": "python",
   "name": "python3"
  }
 },
 "nbformat": 4,
 "nbformat_minor": 4
}
