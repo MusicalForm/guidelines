{
 "cells": [
  {
   "cell_type": "raw",
   "metadata": {},
   "source": [
    "---\n",
    "title: Vocabulary\n",
    "---"
   ]
  },
  {
   "cell_type": "markdown",
   "metadata": {},
   "source": [
    "# Form labels and abbreviations\n",
    "\n",
    "The table below is a subset of https://cloud.bruckneruni.at/index.php/s/awFF9yZE3reSxoG?dir=/&openfile=true which is still work in progress.\n",
    "These include the most relevant labels and abbreviations for piloting the guidelines.\n",
    "\n",
    "The vocabulary of formal concepts referring to formal functions is grouped according to their position in the formal hierarchy: Movement, Section, Phrase, Subphrase levels.\n",
    "Each term corresponds either to a formal type or a formal function. Most labels come with an abbreviation which is the preferred way to use it.\n",
    "\n",
    "In order to learn about how labels are combined, please refer to [Syntax](wiki/Syntax.md)."
   ]
  },
  {
   "metadata": {},
   "cell_type": "code",
   "outputs": [],
   "execution_count": null,
   "source": [
    "#| label: vocabulary\n",
    "#| tbl-cap: Form label vocabulary\n",
    "#| echo: false\n",
    "#| tbl-colwidths: [0, 0, 20, 0, 0] # make the 3rd col large enough to no wrap\n",
    "\n",
    "from IPython.display import Markdown\n",
    "import pandas as pd\n",
    "\n",
    "\n",
    "df = pd.read_csv(\"data/Form vocabulary.csv\")\n",
    "df = df.query(\"`Hierarchical level`.notna()\")\n",
    "df[\"Label\"] = (\"[\" + df[\"Formal category\"] + \"](\" + df[\"Open Music Theory Link\"] + \")\").where(df[\"Open Music Theory Link\"].notna(), df[\"Formal category\"])\n",
    "columns = [\"Hierarchical level\", \"Function/type\", \"Label\", \"Short label\", \"Short explanation\"]\n",
    "selection = df[columns].sort_values(columns).fillna(\"\")\n",
    "Markdown(selection.to_markdown(index=False))"
   ]
  }
 ],
 "metadata": {
  "kernelspec": {
   "display_name": "tmp3.12",
   "language": "python",
   "name": "tmp3.12"
  },
  "language_info": {
   "codemirror_mode": {
    "name": "ipython",
    "version": 3
   },
   "file_extension": ".py",
   "mimetype": "text/x-python",
   "name": "python",
   "nbconvert_exporter": "python",
   "pygments_lexer": "ipython3",
   "version": "3.12.9"
  }
 },
 "nbformat": 4,
 "nbformat_minor": 4
}
