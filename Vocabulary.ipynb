{
 "cells": [
  {
   "metadata": {},
   "cell_type": "raw",
   "source": [
    "---\n",
    "title: Vocabulary\n",
    "---"
   ]
  },
  {
   "cell_type": "markdown",
   "metadata": {},
   "source": [
    "# Form labels and abbreviations\n",
    "\n",
    "The table below is a subset of https://cloud.bruckneruni.at/index.php/s/awFF9yZE3reSxoG?dir=/&openfile=true which is still work in progress.\n",
    "These include the most relevant labels and abbreviations for piloting the guidelines.\n",
    "\n",
    "The vocabulary of formal concepts referring to formal functions is grouped according to their position in the formal hierarchy: Movement, Section, Phrase, Subphrase levels.\n",
    "Each term corresponds either to a formal type or a formal function. Most labels come with an abbreviation which is the preferred way to use it.\n",
    "\n",
    "In order to learn about how labels are combined, please refer to [Syntax](wiki/Syntax.md)."
   ]
  },
  {
   "cell_type": "code",
   "metadata": {
    "ExecuteTime": {
     "end_time": "2025-06-10T13:20:59.695773Z",
     "start_time": "2025-06-10T13:20:58.226486Z"
    }
   },
   "source": [
    "#| label: vocabulary\n",
    "#| tbl-cap: Form label vocabulary\n",
    "#| echo: false\n",
    "#| tbl-colwidths: [0, 0, 20, 0, 0] # make the 3rd col large enough to no wrap\n",
    "\n",
    "from IPython.display import Markdown\n",
    "import pandas as pd\n",
    "\n",
    "\n",
    "df = pd.read_csv(\"data/Form vocabulary.csv\")\n",
    "df = df.query(\"`Hierarchical level`.notna()\")\n",
    "df[\"Label\"] = (\"[\" + df[\"Formal category\"] + \"](\" + df[\"Open Music Theory Link\"] + \")\").where(df[\"Open Music Theory Link\"].notna(), df[\"Formal category\"])\n",
    "columns = [\"Hierarchical level\", \"Function/type\", \"Label\", \"Short label\", \"Short explanation\"]\n",
    "selection = df[columns].sort_values(columns).fillna(\"\")\n",
    "Markdown(selection.to_markdown(index=False))"
   ],
   "outputs": [
    {
     "data": {
      "text/plain": [
       "<IPython.core.display.Markdown object>"
      ],
      "text/markdown": "| Hierarchical level   | Function/type   | Label                                                                                      | Short label   | Short explanation                                                                                                                                                                                                                       |\n|:---------------------|:----------------|:-------------------------------------------------------------------------------------------|:--------------|:----------------------------------------------------------------------------------------------------------------------------------------------------------------------------------------------------------------------------------------|\n| Movement level       | Subtype         | types 1, 2, 3, 4, 5                                                                        |               |                                                                                                                                                                                                                                         |\n| Movement level       | Type            | [minuet form](https://openmusictheory.github.io/minuet.html)                               |               | ABA’ structure, split into three parts ternary or binary                                                                                                                                                                                |\n| Movement level       | Type            | [rondo form](https://openmusictheory.github.io/rondo.html)                                 |               | alternation of refrain and contrasting couplets/episodes                                                                                                                                                                                |\n| Movement level       | Type            | [sonata form](https://openmusictheory.github.io/SonataTheory-intro.html)                   |               | Binary or ternary form                                                                                                                                                                                                                  |\n| Movement level       | Type            | concerto form                                                                              |               | six part structure: 1) opening ritornello for orchestra, 2) a solo section, 3) subordinate-key ritornello for orchestra, 4) solo section functioning as recapitulation, 6) closing ritornello for orchestra interrupted by solo cadenza |\n| Phrase level         | Function        | [antecedent](https://elliotthauser.com/openmusictheory/period.html)                        | ant           | 2-measure bi, 2-measure ci, HC or IAC                                                                                                                                                                                                   |\n| Phrase level         | Function        | [consequent](https://elliotthauser.com/openmusictheory/period.html)                        | cons          | Following a first thematic phrase, there is a restatement of bi, closing with ci on PAC                                                                                                                                                 |\n| Phrase level         | Type            | [Hybrid 1](https://elliotthauser.com/openmusictheory/hybridThemes.html)                    | hyb1          | Antecedent + continuation                                                                                                                                                                                                               |\n| Phrase level         | Type            | [Hybrid 2](https://elliotthauser.com/openmusictheory/hybridThemes.html)                    | hyb2          | Antecedent + cadential progression                                                                                                                                                                                                      |\n| Phrase level         | Type            | [Hybrid 3](https://elliotthauser.com/openmusictheory/hybridThemes.html)                    | hyb3          | compound basic idea + continuation                                                                                                                                                                                                      |\n| Phrase level         | Type            | [Hybrid 4](https://elliotthauser.com/openmusictheory/hybridThemes.html)                    | hyb4          | compound basic idea + consequent                                                                                                                                                                                                        |\n| Phrase level         | Type            | [period](https://elliotthauser.com/openmusictheory/period.html)                            | pd            | Two-part structure, consisting of an antecendent (HC or IAC) and a consequent (concluded by PAC)                                                                                                                                        |\n| Phrase level         | Type            | [sentence](https://elliotthauser.com/openmusictheory/sentence.html)                        | sent          | Two-part structure, consisting of a presentation (no cadence) and a continuation (concluded by a half or full cadence). The presentation in turn is made up  of two (less frequently one or three) basic ideas.                         |\n| Section level        | Function        | [closing theme](https://elliotthauser.com/openmusictheory/sonataThematicModules.html)      | cls           | follows the EEC, new melodic material or primary theme based                                                                                                                                                                            |\n| Section level        | Function        | [coda](https://openmusictheory.github.io/sonataFramingModules.html)                        | coda          | different types, module or section after the recapitulation, framing the movement (as an after-the-end  function)                                                                                                                       |\n| Section level        | Function        | [development section](https://openmusictheory.github.io/sonataDevelopment.html)            | dev           | 4 modules: 1) link from exposition; 2) entry zone; 3) central-action zone; 4) retransition                                                                                                                                              |\n| Section level        | Function        | [exposition](https://openmusictheory.github.io/SonataTheory-exposition.html)               | exp           | Two-part or continous form/type                                                                                                                                                                                                         |\n| Section level        | Function        | [first theme](https://elliotthauser.com/openmusictheory/sonataThematicModules.html)        | 1st           | establish home key, present primary melodic material, move towards MC                                                                                                                                                                   |\n| Section level        | Function        | [introduction](https://openmusictheory.github.io/sonataFramingModules.html)                | intro         | module or section before the exposition, framing the movement (as a before-the-beginning function)                                                                                                                                      |\n| Section level        | Function        | [main theme](https://elliotthauser.com/openmusictheory/sonataThematicModules.html)         | mt            | establish home key, present primary melodic material, move towards MC                                                                                                                                                                   |\n| Section level        | Function        | [primary theme zone](https://elliotthauser.com/openmusictheory/sonataThematicModules.html) | ptz           | establish home key, present primary melodic material, move towards MC                                                                                                                                                                   |\n| Section level        | Function        | [primary theme](https://elliotthauser.com/openmusictheory/sonataThematicModules.html)      | pt            | establish home key, present primary melodic material, move towards MC                                                                                                                                                                   |\n| Section level        | Function        | [recapitulation](https://openmusictheory.github.io/sonataRecap.html)                       | recap         | essential sonata closure and re-composition                                                                                                                                                                                             |\n| Section level        | Function        | [second theme](https://elliotthauser.com/openmusictheory/sonataThematicModules.html)       | 2nd           | leads to PAC in subordinate key and EEC                                                                                                                                                                                                 |\n| Section level        | Function        | [subordinate theme](https://elliotthauser.com/openmusictheory/sonataThematicModules.html)  | st            | leads to PAC in subordinate key and EEC                                                                                                                                                                                                 |\n| Subphrase level      | Function        | [basic idea](none)                                                                         | bi            | smallest formal unit of a theme (typically 2 bars in length)                                                                                                                                                                            |\n| Subphrase level      | Function        | [cadential idea](https://elliotthauser.com/openmusictheory/themeFunctions.html)            | cad           | at the end of a theme/phrase                                                                                                                                                                                                            |\n| Subphrase level      | Function        | [continuation](https://elliotthauser.com/openmusictheory/sentence.html)                    | cont          | Second part of sentence, leads to cadence at the end (HC, IAC or PAC), unless the theme is of the dissolving type                                                                                                                       |\n| Subphrase level      | Function        | [presentation](https://elliotthauser.com/openmusictheory/sentence.html)                    | pres          | first part of sentence, containts two bi (rarely one or three bi’s), leads to no cadence                                                                                                                                                |\n| Subphrase level      | Function        | compound basic idea                                                                        | cbi           | basic idea is enlarged; it consists of two distinct parts, featuring prolongational harmony. It does not cadence.                                                                                                                       |\n| Subphrase level      | Function        | contrasting idea                                                                           | ci            | smallest motivic (formal) unit of a theme; is in contrast to a preceding basic idea.                                                                                                                                                    |"
     },
     "execution_count": 1,
     "metadata": {},
     "output_type": "execute_result"
    }
   ],
   "execution_count": 1
  }
 ],
 "metadata": {
  "kernelspec": {
   "display_name": "Python 3",
   "language": "python",
   "name": "python3"
  }
 },
 "nbformat": 4,
 "nbformat_minor": 4
}
